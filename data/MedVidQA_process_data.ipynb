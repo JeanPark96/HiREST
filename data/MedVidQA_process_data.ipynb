{
 "cells": [
  {
   "cell_type": "code",
   "execution_count": 8,
   "metadata": {},
   "outputs": [],
   "source": [
    "import os\n",
    "import json\n",
    "import pandas as pd\n",
    "from random import randrange\n",
    "from yt_dlp import YoutubeDL\n",
    "from moviepy.editor import VideoFileClip\n",
    "from tqdm import tqdm"
   ]
  },
  {
   "cell_type": "code",
   "execution_count": 9,
   "metadata": {},
   "outputs": [],
   "source": [
    "def save_json(content, save_path):\n",
    "    with open(save_path, 'w') as f:\n",
    "        f.write(json.dumps(content))\n",
    "def load_jsonl(filename):\n",
    "    with open(filename, \"r\") as f:\n",
    "        return [json.loads(l.strip(\"\\n\")) for l in f.readlines()]"
   ]
  },
  {
   "cell_type": "code",
   "execution_count": 10,
   "metadata": {},
   "outputs": [],
   "source": [
    "#input json\n",
    "#set medical video download folder\n",
    "medvid_folder = \"/home/hlpark/shared/MedVidQA/video\"\n",
    "if not os.path.exists(medvid_folder):\n",
    "    os.makedirs(medvid_folder)\n",
    "\n",
    "eval_folder = \"/home/hlpark/REDUCE/REDUCE_benchmarks/HiREST/data/evaluation/medivdqa\"\n",
    "if not os.path.exists(eval_folder):\n",
    "    os.makedirs(eval_folder)\n",
    "\n",
    "vid_json_folder = \"/home/hlpark/REDUCE/REDUCE_benchmarks/HiREST/data/splits/medvidqa\"\n",
    "if not os.path.exists(vid_json_folder):\n",
    "    os.makedirs(vid_json_folder)"
   ]
  },
  {
   "cell_type": "code",
   "execution_count": 11,
   "metadata": {},
   "outputs": [],
   "source": [
    "redownload_list = ['21s9tRvo_x4.mp4', '3C01Cqd1mHs.mp4', '1vnjCOq4rGQ.mp4', 'Qaez8OKf-eE.mp4', 'd8-GG4KD_Tw.mp4', 'LxwjHzTpXV4.mp4', 'wEfiJL-JS_4.mp4', 'U4u6jyJjDT4.mp4']"
   ]
  },
  {
   "cell_type": "code",
   "execution_count": 44,
   "metadata": {},
   "outputs": [],
   "source": [
    "list_of_bad_videos = ['SztsZNp-jDM', 'OKXoHwkx55c', 'V9j5JkWGwI8', 'ehl2MPczYoQ', 'mMNloo140pU', 'QwhD5UTUW60', 'Ehan_VI7p4c']"
   ]
  },
  {
   "cell_type": "code",
   "execution_count": 36,
   "metadata": {},
   "outputs": [],
   "source": [
    "train_path = '/home/hlpark/shared/MedVidQA/train.json'\n",
    "val_path = '/home/hlpark/shared/MedVidQA/val.json'\n",
    "test_path = '/home/hlpark/shared/MedVidQA/test.json'\n",
    "txt_file_root = \"/home/hlpark/shared/MedVidQA\""
   ]
  },
  {
   "cell_type": "code",
   "execution_count": 37,
   "metadata": {},
   "outputs": [],
   "source": [
    "train = json.load(open(train_path))\n",
    "val = json.load(open(val_path))\n",
    "test = json.load(open(test_path))"
   ]
  },
  {
   "cell_type": "code",
   "execution_count": 38,
   "metadata": {},
   "outputs": [
    {
     "name": "stderr",
     "output_type": "stream",
     "text": [
      "0it [00:00, ?it/s]"
     ]
    },
    {
     "name": "stdout",
     "output_type": "stream",
     "text": [
      "[youtube] Extracting URL: https://www.youtube.com/watch?v=zWG4LWPraYw\n",
      "[youtube] zWG4LWPraYw: Downloading webpage\n",
      "[youtube] zWG4LWPraYw: Downloading ios player API JSON\n",
      "[youtube] zWG4LWPraYw: Downloading android player API JSON\n"
     ]
    },
    {
     "name": "stderr",
     "output_type": "stream",
     "text": [
      "ERROR: [youtube] zWG4LWPraYw: Video unavailable\n",
      "635it [00:05, 112.60it/s]"
     ]
    },
    {
     "name": "stdout",
     "output_type": "stream",
     "text": [
      "Unvailable  zWG4LWPraYw\n",
      "[youtube] Extracting URL: https://www.youtube.com/watch?v=WU9-MmRe4_g\n",
      "[youtube] WU9-MmRe4_g: Downloading webpage\n",
      "[youtube] WU9-MmRe4_g: Downloading ios player API JSON\n",
      "[youtube] WU9-MmRe4_g: Downloading android player API JSON\n"
     ]
    },
    {
     "name": "stderr",
     "output_type": "stream",
     "text": [
      "ERROR: [youtube] WU9-MmRe4_g: Private video. Sign in if you've been granted access to this video\n",
      "902it [00:06, 154.27it/s]"
     ]
    },
    {
     "name": "stdout",
     "output_type": "stream",
     "text": [
      "Unvailable  WU9-MmRe4_g\n",
      "[youtube] Extracting URL: https://www.youtube.com/watch?v=cmUXo4Crrm0\n",
      "[youtube] cmUXo4Crrm0: Downloading webpage\n",
      "[youtube] cmUXo4Crrm0: Downloading ios player API JSON\n",
      "[youtube] cmUXo4Crrm0: Downloading android player API JSON\n"
     ]
    },
    {
     "name": "stderr",
     "output_type": "stream",
     "text": [
      "ERROR: [youtube] cmUXo4Crrm0: Private video. Sign in if you've been granted access to this video\n"
     ]
    },
    {
     "name": "stdout",
     "output_type": "stream",
     "text": [
      "Unvailable  cmUXo4Crrm0\n",
      "[youtube] Extracting URL: https://www.youtube.com/watch?v=cmUXo4Crrm0\n",
      "[youtube] cmUXo4Crrm0: Downloading webpage\n",
      "[youtube] cmUXo4Crrm0: Downloading ios player API JSON\n",
      "[youtube] cmUXo4Crrm0: Downloading android player API JSON\n"
     ]
    },
    {
     "name": "stderr",
     "output_type": "stream",
     "text": [
      "ERROR: [youtube] cmUXo4Crrm0: Private video. Sign in if you've been granted access to this video\n"
     ]
    },
    {
     "name": "stdout",
     "output_type": "stream",
     "text": [
      "Unvailable  cmUXo4Crrm0\n",
      "[youtube] Extracting URL: https://www.youtube.com/watch?v=cmUXo4Crrm0\n",
      "[youtube] cmUXo4Crrm0: Downloading webpage\n",
      "[youtube] cmUXo4Crrm0: Downloading ios player API JSON\n",
      "[youtube] cmUXo4Crrm0: Downloading android player API JSON\n"
     ]
    },
    {
     "name": "stderr",
     "output_type": "stream",
     "text": [
      "ERROR: [youtube] cmUXo4Crrm0: Private video. Sign in if you've been granted access to this video\n"
     ]
    },
    {
     "name": "stdout",
     "output_type": "stream",
     "text": [
      "Unvailable  cmUXo4Crrm0\n",
      "[youtube] Extracting URL: https://www.youtube.com/watch?v=cmUXo4Crrm0\n",
      "[youtube] cmUXo4Crrm0: Downloading webpage\n",
      "[youtube] cmUXo4Crrm0: Downloading ios player API JSON\n",
      "[youtube] cmUXo4Crrm0: Downloading android player API JSON\n"
     ]
    },
    {
     "name": "stderr",
     "output_type": "stream",
     "text": [
      "ERROR: [youtube] cmUXo4Crrm0: Private video. Sign in if you've been granted access to this video\n"
     ]
    },
    {
     "name": "stdout",
     "output_type": "stream",
     "text": [
      "Unvailable  cmUXo4Crrm0\n",
      "[youtube] Extracting URL: https://www.youtube.com/watch?v=fdel7Zvq5s4\n",
      "[youtube] fdel7Zvq5s4: Downloading webpage\n",
      "[youtube] fdel7Zvq5s4: Downloading ios player API JSON\n",
      "[youtube] fdel7Zvq5s4: Downloading android player API JSON\n"
     ]
    },
    {
     "name": "stderr",
     "output_type": "stream",
     "text": [
      "ERROR: [youtube] fdel7Zvq5s4: Private video. Sign in if you've been granted access to this video\n"
     ]
    },
    {
     "name": "stdout",
     "output_type": "stream",
     "text": [
      "Unvailable  fdel7Zvq5s4\n",
      "[youtube] Extracting URL: https://www.youtube.com/watch?v=JifKGgGGlMg\n",
      "[youtube] JifKGgGGlMg: Downloading webpage\n",
      "[youtube] JifKGgGGlMg: Downloading ios player API JSON\n",
      "[youtube] JifKGgGGlMg: Downloading android player API JSON\n"
     ]
    },
    {
     "name": "stderr",
     "output_type": "stream",
     "text": [
      "ERROR: [youtube] JifKGgGGlMg: Private video. Sign in if you've been granted access to this video\n",
      "931it [00:09, 84.16it/s] "
     ]
    },
    {
     "name": "stdout",
     "output_type": "stream",
     "text": [
      "Unvailable  JifKGgGGlMg\n",
      "[youtube] Extracting URL: https://www.youtube.com/watch?v=JifKGgGGlMg\n",
      "[youtube] JifKGgGGlMg: Downloading webpage\n",
      "[youtube] JifKGgGGlMg: Downloading ios player API JSON\n",
      "[youtube] JifKGgGGlMg: Downloading android player API JSON\n"
     ]
    },
    {
     "name": "stderr",
     "output_type": "stream",
     "text": [
      "ERROR: [youtube] JifKGgGGlMg: Private video. Sign in if you've been granted access to this video\n"
     ]
    },
    {
     "name": "stdout",
     "output_type": "stream",
     "text": [
      "Unvailable  JifKGgGGlMg\n",
      "[youtube] Extracting URL: https://www.youtube.com/watch?v=JifKGgGGlMg\n",
      "[youtube] JifKGgGGlMg: Downloading webpage\n",
      "[youtube] JifKGgGGlMg: Downloading ios player API JSON\n",
      "[youtube] JifKGgGGlMg: Downloading android player API JSON\n"
     ]
    },
    {
     "name": "stderr",
     "output_type": "stream",
     "text": [
      "ERROR: [youtube] JifKGgGGlMg: Private video. Sign in if you've been granted access to this video\n"
     ]
    },
    {
     "name": "stdout",
     "output_type": "stream",
     "text": [
      "Unvailable  JifKGgGGlMg\n",
      "[youtube] Extracting URL: https://www.youtube.com/watch?v=JifKGgGGlMg\n",
      "[youtube] JifKGgGGlMg: Downloading webpage\n",
      "[youtube] JifKGgGGlMg: Downloading ios player API JSON\n",
      "[youtube] JifKGgGGlMg: Downloading android player API JSON\n"
     ]
    },
    {
     "name": "stderr",
     "output_type": "stream",
     "text": [
      "ERROR: [youtube] JifKGgGGlMg: Private video. Sign in if you've been granted access to this video\n"
     ]
    },
    {
     "name": "stdout",
     "output_type": "stream",
     "text": [
      "Unvailable  JifKGgGGlMg\n",
      "[youtube] Extracting URL: https://www.youtube.com/watch?v=o5EJGeKIGrk\n",
      "[youtube] o5EJGeKIGrk: Downloading webpage\n",
      "[youtube] o5EJGeKIGrk: Downloading ios player API JSON\n",
      "[youtube] o5EJGeKIGrk: Downloading android player API JSON\n"
     ]
    },
    {
     "name": "stderr",
     "output_type": "stream",
     "text": [
      "ERROR: [youtube] o5EJGeKIGrk: Video unavailable\n"
     ]
    },
    {
     "name": "stdout",
     "output_type": "stream",
     "text": [
      "Unvailable  o5EJGeKIGrk\n",
      "[youtube] Extracting URL: https://www.youtube.com/watch?v=o5EJGeKIGrk\n",
      "[youtube] o5EJGeKIGrk: Downloading webpage\n",
      "[youtube] o5EJGeKIGrk: Downloading ios player API JSON\n",
      "[youtube] o5EJGeKIGrk: Downloading android player API JSON\n"
     ]
    },
    {
     "name": "stderr",
     "output_type": "stream",
     "text": [
      "ERROR: [youtube] o5EJGeKIGrk: Video unavailable\n"
     ]
    },
    {
     "name": "stdout",
     "output_type": "stream",
     "text": [
      "Unvailable  o5EJGeKIGrk\n",
      "[youtube] Extracting URL: https://www.youtube.com/watch?v=o5EJGeKIGrk\n",
      "[youtube] o5EJGeKIGrk: Downloading webpage\n",
      "[youtube] o5EJGeKIGrk: Downloading ios player API JSON\n",
      "[youtube] o5EJGeKIGrk: Downloading android player API JSON\n"
     ]
    },
    {
     "name": "stderr",
     "output_type": "stream",
     "text": [
      "ERROR: [youtube] o5EJGeKIGrk: Video unavailable\n",
      "947it [00:12, 52.39it/s]"
     ]
    },
    {
     "name": "stdout",
     "output_type": "stream",
     "text": [
      "Unvailable  o5EJGeKIGrk\n",
      "[youtube] Extracting URL: https://www.youtube.com/watch?v=ID4nnTGrkc8\n",
      "[youtube] ID4nnTGrkc8: Downloading webpage\n",
      "[youtube] ID4nnTGrkc8: Downloading ios player API JSON\n",
      "[youtube] ID4nnTGrkc8: Downloading android player API JSON\n"
     ]
    },
    {
     "name": "stderr",
     "output_type": "stream",
     "text": [
      "ERROR: [youtube] ID4nnTGrkc8: Private video. Sign in if you've been granted access to this video\n",
      "1046it [00:12, 65.07it/s]"
     ]
    },
    {
     "name": "stdout",
     "output_type": "stream",
     "text": [
      "Unvailable  ID4nnTGrkc8\n",
      "[youtube] Extracting URL: https://www.youtube.com/watch?v=ID4nnTGrkc8\n",
      "[youtube] ID4nnTGrkc8: Downloading webpage\n",
      "[youtube] ID4nnTGrkc8: Downloading ios player API JSON\n",
      "[youtube] ID4nnTGrkc8: Downloading android player API JSON\n"
     ]
    },
    {
     "name": "stderr",
     "output_type": "stream",
     "text": [
      "ERROR: [youtube] ID4nnTGrkc8: Private video. Sign in if you've been granted access to this video\n"
     ]
    },
    {
     "name": "stdout",
     "output_type": "stream",
     "text": [
      "Unvailable  ID4nnTGrkc8\n",
      "[youtube] Extracting URL: https://www.youtube.com/watch?v=ID4nnTGrkc8\n",
      "[youtube] ID4nnTGrkc8: Downloading webpage\n",
      "[youtube] ID4nnTGrkc8: Downloading ios player API JSON\n",
      "[youtube] ID4nnTGrkc8: Downloading android player API JSON\n"
     ]
    },
    {
     "name": "stderr",
     "output_type": "stream",
     "text": [
      "ERROR: [youtube] ID4nnTGrkc8: Private video. Sign in if you've been granted access to this video\n",
      "1060it [00:13, 55.03it/s]"
     ]
    },
    {
     "name": "stdout",
     "output_type": "stream",
     "text": [
      "Unvailable  ID4nnTGrkc8\n",
      "[youtube] Extracting URL: https://www.youtube.com/watch?v=B8WEfHMeWwg\n",
      "[youtube] B8WEfHMeWwg: Downloading webpage\n",
      "[youtube] B8WEfHMeWwg: Downloading ios player API JSON\n",
      "[youtube] B8WEfHMeWwg: Downloading android player API JSON\n"
     ]
    },
    {
     "name": "stderr",
     "output_type": "stream",
     "text": [
      "ERROR: [youtube] B8WEfHMeWwg: Private video. Sign in if you've been granted access to this video\n"
     ]
    },
    {
     "name": "stdout",
     "output_type": "stream",
     "text": [
      "Unvailable  B8WEfHMeWwg\n",
      "[youtube] Extracting URL: https://www.youtube.com/watch?v=B8WEfHMeWwg\n",
      "[youtube] B8WEfHMeWwg: Downloading webpage\n",
      "[youtube] B8WEfHMeWwg: Downloading ios player API JSON\n",
      "[youtube] B8WEfHMeWwg: Downloading android player API JSON\n"
     ]
    },
    {
     "name": "stderr",
     "output_type": "stream",
     "text": [
      "ERROR: [youtube] B8WEfHMeWwg: Private video. Sign in if you've been granted access to this video\n"
     ]
    },
    {
     "name": "stdout",
     "output_type": "stream",
     "text": [
      "Unvailable  B8WEfHMeWwg\n",
      "[youtube] Extracting URL: https://www.youtube.com/watch?v=B8WEfHMeWwg\n",
      "[youtube] B8WEfHMeWwg: Downloading webpage\n",
      "[youtube] B8WEfHMeWwg: Downloading ios player API JSON\n",
      "[youtube] B8WEfHMeWwg: Downloading android player API JSON\n"
     ]
    },
    {
     "name": "stderr",
     "output_type": "stream",
     "text": [
      "ERROR: [youtube] B8WEfHMeWwg: Private video. Sign in if you've been granted access to this video\n"
     ]
    },
    {
     "name": "stdout",
     "output_type": "stream",
     "text": [
      "Unvailable  B8WEfHMeWwg\n",
      "[youtube] Extracting URL: https://www.youtube.com/watch?v=B8WEfHMeWwg\n",
      "[youtube] B8WEfHMeWwg: Downloading webpage\n",
      "[youtube] B8WEfHMeWwg: Downloading ios player API JSON\n",
      "[youtube] B8WEfHMeWwg: Downloading android player API JSON\n"
     ]
    },
    {
     "name": "stderr",
     "output_type": "stream",
     "text": [
      "ERROR: [youtube] B8WEfHMeWwg: Private video. Sign in if you've been granted access to this video\n"
     ]
    },
    {
     "name": "stdout",
     "output_type": "stream",
     "text": [
      "Unvailable  B8WEfHMeWwg\n",
      "[youtube] Extracting URL: https://www.youtube.com/watch?v=B8WEfHMeWwg\n",
      "[youtube] B8WEfHMeWwg: Downloading webpage\n",
      "[youtube] B8WEfHMeWwg: Downloading ios player API JSON\n",
      "[youtube] B8WEfHMeWwg: Downloading android player API JSON\n"
     ]
    },
    {
     "name": "stderr",
     "output_type": "stream",
     "text": [
      "ERROR: [youtube] B8WEfHMeWwg: Private video. Sign in if you've been granted access to this video\n",
      "1070it [00:16, 34.18it/s]"
     ]
    },
    {
     "name": "stdout",
     "output_type": "stream",
     "text": [
      "Unvailable  B8WEfHMeWwg\n",
      "[youtube] Extracting URL: https://www.youtube.com/watch?v=9fTAW_HAN2Y\n",
      "[youtube] 9fTAW_HAN2Y: Downloading webpage\n",
      "[youtube] 9fTAW_HAN2Y: Downloading ios player API JSON\n",
      "[youtube] 9fTAW_HAN2Y: Downloading android player API JSON\n"
     ]
    },
    {
     "name": "stderr",
     "output_type": "stream",
     "text": [
      "ERROR: [youtube] 9fTAW_HAN2Y: Video unavailable\n",
      "1097it [00:16, 36.80it/s]"
     ]
    },
    {
     "name": "stdout",
     "output_type": "stream",
     "text": [
      "Unvailable  9fTAW_HAN2Y\n",
      "[youtube] Extracting URL: https://www.youtube.com/watch?v=9fTAW_HAN2Y\n",
      "[youtube] 9fTAW_HAN2Y: Downloading webpage\n",
      "[youtube] 9fTAW_HAN2Y: Downloading ios player API JSON\n",
      "[youtube] 9fTAW_HAN2Y: Downloading android player API JSON\n"
     ]
    },
    {
     "name": "stderr",
     "output_type": "stream",
     "text": [
      "ERROR: [youtube] 9fTAW_HAN2Y: Video unavailable\n"
     ]
    },
    {
     "name": "stdout",
     "output_type": "stream",
     "text": [
      "Unvailable  9fTAW_HAN2Y\n",
      "[youtube] Extracting URL: https://www.youtube.com/watch?v=9fTAW_HAN2Y\n",
      "[youtube] 9fTAW_HAN2Y: Downloading webpage\n",
      "[youtube] 9fTAW_HAN2Y: Downloading ios player API JSON\n",
      "[youtube] 9fTAW_HAN2Y: Downloading android player API JSON\n"
     ]
    },
    {
     "name": "stderr",
     "output_type": "stream",
     "text": [
      "ERROR: [youtube] 9fTAW_HAN2Y: Video unavailable\n"
     ]
    },
    {
     "name": "stdout",
     "output_type": "stream",
     "text": [
      "Unvailable  9fTAW_HAN2Y\n",
      "[youtube] Extracting URL: https://www.youtube.com/watch?v=9fTAW_HAN2Y\n",
      "[youtube] 9fTAW_HAN2Y: Downloading webpage\n",
      "[youtube] 9fTAW_HAN2Y: Downloading ios player API JSON\n",
      "[youtube] 9fTAW_HAN2Y: Downloading android player API JSON\n"
     ]
    },
    {
     "name": "stderr",
     "output_type": "stream",
     "text": [
      "ERROR: [youtube] 9fTAW_HAN2Y: Video unavailable\n",
      "1104it [00:18, 27.29it/s]"
     ]
    },
    {
     "name": "stdout",
     "output_type": "stream",
     "text": [
      "Unvailable  9fTAW_HAN2Y\n",
      "[youtube] Extracting URL: https://www.youtube.com/watch?v=tVZLqXaE7-8\n",
      "[youtube] tVZLqXaE7-8: Downloading webpage\n",
      "[youtube] tVZLqXaE7-8: Downloading ios player API JSON\n",
      "[youtube] tVZLqXaE7-8: Downloading android player API JSON\n"
     ]
    },
    {
     "name": "stderr",
     "output_type": "stream",
     "text": [
      "ERROR: [youtube] tVZLqXaE7-8: Private video. Sign in if you've been granted access to this video\n",
      "1117it [00:18, 27.20it/s]"
     ]
    },
    {
     "name": "stdout",
     "output_type": "stream",
     "text": [
      "Unvailable  tVZLqXaE7-8\n",
      "[youtube] Extracting URL: https://www.youtube.com/watch?v=tVZLqXaE7-8\n",
      "[youtube] tVZLqXaE7-8: Downloading webpage\n",
      "[youtube] tVZLqXaE7-8: Downloading ios player API JSON\n",
      "[youtube] tVZLqXaE7-8: Downloading android player API JSON\n"
     ]
    },
    {
     "name": "stderr",
     "output_type": "stream",
     "text": [
      "ERROR: [youtube] tVZLqXaE7-8: Private video. Sign in if you've been granted access to this video\n",
      "1121it [00:18, 24.26it/s]"
     ]
    },
    {
     "name": "stdout",
     "output_type": "stream",
     "text": [
      "Unvailable  tVZLqXaE7-8\n",
      "[youtube] Extracting URL: https://www.youtube.com/watch?v=AfTih6YgmvU\n",
      "[youtube] AfTih6YgmvU: Downloading webpage\n",
      "[youtube] AfTih6YgmvU: Downloading ios player API JSON\n",
      "[youtube] AfTih6YgmvU: Downloading android player API JSON\n"
     ]
    },
    {
     "name": "stderr",
     "output_type": "stream",
     "text": [
      "ERROR: [youtube] AfTih6YgmvU: Video unavailable. This video is no longer available because the YouTube account associated with this video has been terminated.\n",
      "1210it [00:19, 54.36it/s]"
     ]
    },
    {
     "name": "stdout",
     "output_type": "stream",
     "text": [
      "Unvailable  AfTih6YgmvU\n",
      "[youtube] Extracting URL: https://www.youtube.com/watch?v=PwoymvaC258\n",
      "[youtube] PwoymvaC258: Downloading webpage\n",
      "[youtube] PwoymvaC258: Downloading ios player API JSON\n",
      "[youtube] PwoymvaC258: Downloading android player API JSON\n"
     ]
    },
    {
     "name": "stderr",
     "output_type": "stream",
     "text": [
      "ERROR: [youtube] PwoymvaC258: Video unavailable\n",
      "1305it [00:19, 85.48it/s]"
     ]
    },
    {
     "name": "stdout",
     "output_type": "stream",
     "text": [
      "Unvailable  PwoymvaC258\n",
      "[youtube] Extracting URL: https://www.youtube.com/watch?v=mbho7AJOEyA\n",
      "[youtube] mbho7AJOEyA: Downloading webpage\n",
      "[youtube] mbho7AJOEyA: Downloading ios player API JSON\n",
      "[youtube] mbho7AJOEyA: Downloading android player API JSON\n"
     ]
    },
    {
     "name": "stderr",
     "output_type": "stream",
     "text": [
      "ERROR: [youtube] mbho7AJOEyA: Video unavailable\n",
      "1329it [00:20, 78.07it/s]"
     ]
    },
    {
     "name": "stdout",
     "output_type": "stream",
     "text": [
      "Unvailable  mbho7AJOEyA\n",
      "[youtube] Extracting URL: https://www.youtube.com/watch?v=mbho7AJOEyA\n",
      "[youtube] mbho7AJOEyA: Downloading webpage\n",
      "[youtube] mbho7AJOEyA: Downloading ios player API JSON\n",
      "[youtube] mbho7AJOEyA: Downloading android player API JSON\n"
     ]
    },
    {
     "name": "stderr",
     "output_type": "stream",
     "text": [
      "ERROR: [youtube] mbho7AJOEyA: Video unavailable\n"
     ]
    },
    {
     "name": "stdout",
     "output_type": "stream",
     "text": [
      "Unvailable  mbho7AJOEyA\n",
      "[youtube] Extracting URL: https://www.youtube.com/watch?v=mbho7AJOEyA\n",
      "[youtube] mbho7AJOEyA: Downloading webpage\n",
      "[youtube] mbho7AJOEyA: Downloading ios player API JSON\n",
      "[youtube] mbho7AJOEyA: Downloading android player API JSON\n"
     ]
    },
    {
     "name": "stderr",
     "output_type": "stream",
     "text": [
      "ERROR: [youtube] mbho7AJOEyA: Video unavailable\n",
      "1339it [00:21, 53.18it/s]"
     ]
    },
    {
     "name": "stdout",
     "output_type": "stream",
     "text": [
      "Unvailable  mbho7AJOEyA\n",
      "[youtube] Extracting URL: https://www.youtube.com/watch?v=IiJI-_VGNnk\n",
      "[youtube] IiJI-_VGNnk: Downloading webpage\n",
      "[youtube] IiJI-_VGNnk: Downloading ios player API JSON\n",
      "[youtube] IiJI-_VGNnk: Downloading android player API JSON\n"
     ]
    },
    {
     "name": "stderr",
     "output_type": "stream",
     "text": [
      "ERROR: [youtube] IiJI-_VGNnk: Video unavailable\n",
      "1508it [00:21, 121.72it/s]"
     ]
    },
    {
     "name": "stdout",
     "output_type": "stream",
     "text": [
      "Unvailable  IiJI-_VGNnk\n",
      "[youtube] Extracting URL: https://www.youtube.com/watch?v=OTj3KxprO40\n",
      "[youtube] OTj3KxprO40: Downloading webpage\n",
      "[youtube] OTj3KxprO40: Downloading ios player API JSON\n",
      "[youtube] OTj3KxprO40: Downloading android player API JSON\n"
     ]
    },
    {
     "name": "stderr",
     "output_type": "stream",
     "text": [
      "ERROR: [youtube] OTj3KxprO40: Private video. Sign in if you've been granted access to this video\n",
      "1565it [00:22, 116.41it/s]"
     ]
    },
    {
     "name": "stdout",
     "output_type": "stream",
     "text": [
      "Unvailable  OTj3KxprO40\n",
      "[youtube] Extracting URL: https://www.youtube.com/watch?v=tfDwIeBHo-M\n",
      "[youtube] tfDwIeBHo-M: Downloading webpage\n",
      "[youtube] tfDwIeBHo-M: Downloading ios player API JSON\n",
      "[youtube] tfDwIeBHo-M: Downloading android player API JSON\n"
     ]
    },
    {
     "name": "stderr",
     "output_type": "stream",
     "text": [
      "ERROR: [youtube] tfDwIeBHo-M: Video unavailable\n",
      "1836it [00:22, 230.01it/s]"
     ]
    },
    {
     "name": "stdout",
     "output_type": "stream",
     "text": [
      "Unvailable  tfDwIeBHo-M\n",
      "[youtube] Extracting URL: https://www.youtube.com/watch?v=tfDwIeBHo-M\n",
      "[youtube] tfDwIeBHo-M: Downloading webpage\n",
      "[youtube] tfDwIeBHo-M: Downloading ios player API JSON\n",
      "[youtube] tfDwIeBHo-M: Downloading android player API JSON\n"
     ]
    },
    {
     "name": "stderr",
     "output_type": "stream",
     "text": [
      "ERROR: [youtube] tfDwIeBHo-M: Video unavailable\n",
      "1863it [00:23, 187.04it/s]"
     ]
    },
    {
     "name": "stdout",
     "output_type": "stream",
     "text": [
      "Unvailable  tfDwIeBHo-M\n",
      "[youtube] Extracting URL: https://www.youtube.com/watch?v=T2YKnBmoq2E\n",
      "[youtube] T2YKnBmoq2E: Downloading webpage\n",
      "[youtube] T2YKnBmoq2E: Downloading ios player API JSON\n",
      "[youtube] T2YKnBmoq2E: Downloading android player API JSON\n"
     ]
    },
    {
     "name": "stderr",
     "output_type": "stream",
     "text": [
      "ERROR: [youtube] T2YKnBmoq2E: Private video. Sign in if you've been granted access to this video\n",
      "2093it [00:23, 260.70it/s]"
     ]
    },
    {
     "name": "stdout",
     "output_type": "stream",
     "text": [
      "Unvailable  T2YKnBmoq2E\n",
      "[youtube] Extracting URL: https://www.youtube.com/watch?v=T2YKnBmoq2E\n",
      "[youtube] T2YKnBmoq2E: Downloading webpage\n",
      "[youtube] T2YKnBmoq2E: Downloading ios player API JSON\n",
      "[youtube] T2YKnBmoq2E: Downloading android player API JSON\n"
     ]
    },
    {
     "name": "stderr",
     "output_type": "stream",
     "text": [
      "ERROR: [youtube] T2YKnBmoq2E: Private video. Sign in if you've been granted access to this video\n"
     ]
    },
    {
     "name": "stdout",
     "output_type": "stream",
     "text": [
      "Unvailable  T2YKnBmoq2E\n",
      "[youtube] Extracting URL: https://www.youtube.com/watch?v=T2YKnBmoq2E\n",
      "[youtube] T2YKnBmoq2E: Downloading webpage\n",
      "[youtube] T2YKnBmoq2E: Downloading ios player API JSON\n",
      "[youtube] T2YKnBmoq2E: Downloading android player API JSON\n"
     ]
    },
    {
     "name": "stderr",
     "output_type": "stream",
     "text": [
      "ERROR: [youtube] T2YKnBmoq2E: Private video. Sign in if you've been granted access to this video\n"
     ]
    },
    {
     "name": "stdout",
     "output_type": "stream",
     "text": [
      "Unvailable  T2YKnBmoq2E\n",
      "[youtube] Extracting URL: https://www.youtube.com/watch?v=T2YKnBmoq2E\n",
      "[youtube] T2YKnBmoq2E: Downloading webpage\n",
      "[youtube] T2YKnBmoq2E: Downloading ios player API JSON\n",
      "[youtube] T2YKnBmoq2E: Downloading android player API JSON\n"
     ]
    },
    {
     "name": "stderr",
     "output_type": "stream",
     "text": [
      "ERROR: [youtube] T2YKnBmoq2E: Private video. Sign in if you've been granted access to this video\n"
     ]
    },
    {
     "name": "stdout",
     "output_type": "stream",
     "text": [
      "Unvailable  T2YKnBmoq2E\n",
      "[youtube] Extracting URL: https://www.youtube.com/watch?v=T2YKnBmoq2E\n",
      "[youtube] T2YKnBmoq2E: Downloading webpage\n",
      "[youtube] T2YKnBmoq2E: Downloading ios player API JSON\n",
      "[youtube] T2YKnBmoq2E: Downloading android player API JSON\n"
     ]
    },
    {
     "name": "stderr",
     "output_type": "stream",
     "text": [
      "ERROR: [youtube] T2YKnBmoq2E: Private video. Sign in if you've been granted access to this video\n",
      "2121it [00:25, 111.65it/s]"
     ]
    },
    {
     "name": "stdout",
     "output_type": "stream",
     "text": [
      "Unvailable  T2YKnBmoq2E\n",
      "[youtube] Extracting URL: https://www.youtube.com/watch?v=uyqOCjCXzfY\n",
      "[youtube] uyqOCjCXzfY: Downloading webpage\n",
      "[youtube] uyqOCjCXzfY: Downloading ios player API JSON\n",
      "[youtube] uyqOCjCXzfY: Downloading android player API JSON\n"
     ]
    },
    {
     "name": "stderr",
     "output_type": "stream",
     "text": [
      "ERROR: [youtube] uyqOCjCXzfY: Private video. Sign in if you've been granted access to this video\n",
      "2198it [00:26, 113.61it/s]"
     ]
    },
    {
     "name": "stdout",
     "output_type": "stream",
     "text": [
      "Unvailable  uyqOCjCXzfY\n",
      "[youtube] Extracting URL: https://www.youtube.com/watch?v=ADcotG388SI\n",
      "[youtube] ADcotG388SI: Downloading webpage\n",
      "[youtube] ADcotG388SI: Downloading ios player API JSON\n",
      "[youtube] ADcotG388SI: Downloading android player API JSON\n"
     ]
    },
    {
     "name": "stderr",
     "output_type": "stream",
     "text": [
      "ERROR: [youtube] ADcotG388SI: Video unavailable\n"
     ]
    },
    {
     "name": "stdout",
     "output_type": "stream",
     "text": [
      "Unvailable  ADcotG388SI\n",
      "[youtube] Extracting URL: https://www.youtube.com/watch?v=ADcotG388SI\n",
      "[youtube] ADcotG388SI: Downloading webpage\n",
      "[youtube] ADcotG388SI: Downloading ios player API JSON\n",
      "[youtube] ADcotG388SI: Downloading android player API JSON\n"
     ]
    },
    {
     "name": "stderr",
     "output_type": "stream",
     "text": [
      "ERROR: [youtube] ADcotG388SI: Video unavailable\n"
     ]
    },
    {
     "name": "stdout",
     "output_type": "stream",
     "text": [
      "Unvailable  ADcotG388SI\n",
      "[youtube] Extracting URL: https://www.youtube.com/watch?v=ADcotG388SI\n",
      "[youtube] ADcotG388SI: Downloading webpage\n",
      "[youtube] ADcotG388SI: Downloading ios player API JSON\n",
      "[youtube] ADcotG388SI: Downloading android player API JSON\n"
     ]
    },
    {
     "name": "stderr",
     "output_type": "stream",
     "text": [
      "ERROR: [youtube] ADcotG388SI: Video unavailable\n",
      "2216it [00:27, 72.88it/s] "
     ]
    },
    {
     "name": "stdout",
     "output_type": "stream",
     "text": [
      "Unvailable  ADcotG388SI\n",
      "[youtube] Extracting URL: https://www.youtube.com/watch?v=Jq2vsUBanR4\n",
      "[youtube] Jq2vsUBanR4: Downloading webpage\n",
      "[youtube] Jq2vsUBanR4: Downloading ios player API JSON\n",
      "[youtube] Jq2vsUBanR4: Downloading android player API JSON\n"
     ]
    },
    {
     "name": "stderr",
     "output_type": "stream",
     "text": [
      "ERROR: [youtube] Jq2vsUBanR4: Video unavailable\n",
      "2441it [00:28, 140.88it/s]"
     ]
    },
    {
     "name": "stdout",
     "output_type": "stream",
     "text": [
      "Unvailable  Jq2vsUBanR4\n",
      "[youtube] Extracting URL: https://www.youtube.com/watch?v=Jq2vsUBanR4\n",
      "[youtube] Jq2vsUBanR4: Downloading webpage\n",
      "[youtube] Jq2vsUBanR4: Downloading ios player API JSON\n",
      "[youtube] Jq2vsUBanR4: Downloading android player API JSON\n"
     ]
    },
    {
     "name": "stderr",
     "output_type": "stream",
     "text": [
      "ERROR: [youtube] Jq2vsUBanR4: Video unavailable\n",
      "2465it [00:28, 125.44it/s]"
     ]
    },
    {
     "name": "stdout",
     "output_type": "stream",
     "text": [
      "Unvailable  Jq2vsUBanR4\n",
      "[youtube] Extracting URL: https://www.youtube.com/watch?v=o0I9DWl7ARA\n",
      "[youtube] o0I9DWl7ARA: Downloading webpage\n",
      "[youtube] o0I9DWl7ARA: Downloading ios player API JSON\n",
      "[youtube] o0I9DWl7ARA: Downloading android player API JSON\n"
     ]
    },
    {
     "name": "stderr",
     "output_type": "stream",
     "text": [
      "ERROR: [youtube] o0I9DWl7ARA: Video unavailable\n"
     ]
    },
    {
     "name": "stdout",
     "output_type": "stream",
     "text": [
      "Unvailable  o0I9DWl7ARA\n",
      "[youtube] Extracting URL: https://www.youtube.com/watch?v=o0I9DWl7ARA\n",
      "[youtube] o0I9DWl7ARA: Downloading webpage\n",
      "[youtube] o0I9DWl7ARA: Downloading ios player API JSON\n",
      "[youtube] o0I9DWl7ARA: Downloading android player API JSON\n"
     ]
    },
    {
     "name": "stderr",
     "output_type": "stream",
     "text": [
      "ERROR: [youtube] o0I9DWl7ARA: Video unavailable\n"
     ]
    },
    {
     "name": "stdout",
     "output_type": "stream",
     "text": [
      "Unvailable  o0I9DWl7ARA\n",
      "[youtube] Extracting URL: https://www.youtube.com/watch?v=NuqoG0PALHs\n",
      "[youtube] NuqoG0PALHs: Downloading webpage\n",
      "[youtube] NuqoG0PALHs: Downloading ios player API JSON\n",
      "[youtube] NuqoG0PALHs: Downloading android player API JSON\n"
     ]
    },
    {
     "name": "stderr",
     "output_type": "stream",
     "text": [
      "ERROR: [youtube] NuqoG0PALHs: Private video. Sign in if you've been granted access to this video\n"
     ]
    },
    {
     "name": "stdout",
     "output_type": "stream",
     "text": [
      "Unvailable  NuqoG0PALHs\n",
      "[youtube] Extracting URL: https://www.youtube.com/watch?v=NuqoG0PALHs\n",
      "[youtube] NuqoG0PALHs: Downloading webpage\n",
      "[youtube] NuqoG0PALHs: Downloading ios player API JSON\n",
      "[youtube] NuqoG0PALHs: Downloading android player API JSON\n"
     ]
    },
    {
     "name": "stderr",
     "output_type": "stream",
     "text": [
      "ERROR: [youtube] NuqoG0PALHs: Private video. Sign in if you've been granted access to this video\n"
     ]
    },
    {
     "name": "stdout",
     "output_type": "stream",
     "text": [
      "Unvailable  NuqoG0PALHs\n",
      "[youtube] Extracting URL: https://www.youtube.com/watch?v=NuqoG0PALHs\n",
      "[youtube] NuqoG0PALHs: Downloading webpage\n",
      "[youtube] NuqoG0PALHs: Downloading ios player API JSON\n",
      "[youtube] NuqoG0PALHs: Downloading android player API JSON\n"
     ]
    },
    {
     "name": "stderr",
     "output_type": "stream",
     "text": [
      "ERROR: [youtube] NuqoG0PALHs: Private video. Sign in if you've been granted access to this video\n"
     ]
    },
    {
     "name": "stdout",
     "output_type": "stream",
     "text": [
      "Unvailable  NuqoG0PALHs\n",
      "[youtube] Extracting URL: https://www.youtube.com/watch?v=NuqoG0PALHs\n",
      "[youtube] NuqoG0PALHs: Downloading webpage\n",
      "[youtube] NuqoG0PALHs: Downloading ios player API JSON\n",
      "[youtube] NuqoG0PALHs: Downloading android player API JSON\n"
     ]
    },
    {
     "name": "stderr",
     "output_type": "stream",
     "text": [
      "ERROR: [youtube] NuqoG0PALHs: Private video. Sign in if you've been granted access to this video\n"
     ]
    },
    {
     "name": "stdout",
     "output_type": "stream",
     "text": [
      "Unvailable  NuqoG0PALHs\n",
      "[youtube] Extracting URL: https://www.youtube.com/watch?v=NuqoG0PALHs\n",
      "[youtube] NuqoG0PALHs: Downloading webpage\n",
      "[youtube] NuqoG0PALHs: Downloading ios player API JSON\n",
      "[youtube] NuqoG0PALHs: Downloading android player API JSON\n"
     ]
    },
    {
     "name": "stderr",
     "output_type": "stream",
     "text": [
      "ERROR: [youtube] NuqoG0PALHs: Private video. Sign in if you've been granted access to this video\n"
     ]
    },
    {
     "name": "stdout",
     "output_type": "stream",
     "text": [
      "Unvailable  NuqoG0PALHs\n",
      "[youtube] Extracting URL: https://www.youtube.com/watch?v=NuqoG0PALHs\n",
      "[youtube] NuqoG0PALHs: Downloading webpage\n",
      "[youtube] NuqoG0PALHs: Downloading ios player API JSON\n",
      "[youtube] NuqoG0PALHs: Downloading android player API JSON\n"
     ]
    },
    {
     "name": "stderr",
     "output_type": "stream",
     "text": [
      "ERROR: [youtube] NuqoG0PALHs: Private video. Sign in if you've been granted access to this video\n",
      "2710it [00:32, 83.14it/s] "
     ]
    },
    {
     "name": "stdout",
     "output_type": "stream",
     "text": [
      "Unvailable  NuqoG0PALHs\n"
     ]
    },
    {
     "name": "stderr",
     "output_type": "stream",
     "text": [
      "\n"
     ]
    },
    {
     "name": "stdout",
     "output_type": "stream",
     "text": [
      "[youtube] Extracting URL: https://www.youtube.com/watch?v=5gPyNNXP-wA\n",
      "[youtube] 5gPyNNXP-wA: Downloading webpage\n",
      "[youtube] 5gPyNNXP-wA: Downloading ios player API JSON\n",
      "[youtube] 5gPyNNXP-wA: Downloading android player API JSON\n"
     ]
    },
    {
     "name": "stderr",
     "output_type": "stream",
     "text": [
      "ERROR: [youtube] 5gPyNNXP-wA: Private video. Sign in if you've been granted access to this video\n"
     ]
    },
    {
     "name": "stdout",
     "output_type": "stream",
     "text": [
      "Unvailable  5gPyNNXP-wA\n",
      "[youtube] Extracting URL: https://www.youtube.com/watch?v=5gPyNNXP-wA\n",
      "[youtube] 5gPyNNXP-wA: Downloading webpage\n",
      "[youtube] 5gPyNNXP-wA: Downloading ios player API JSON\n",
      "[youtube] 5gPyNNXP-wA: Downloading android player API JSON\n"
     ]
    },
    {
     "name": "stderr",
     "output_type": "stream",
     "text": [
      "ERROR: [youtube] 5gPyNNXP-wA: Private video. Sign in if you've been granted access to this video\n"
     ]
    },
    {
     "name": "stdout",
     "output_type": "stream",
     "text": [
      "Unvailable  5gPyNNXP-wA\n",
      "[youtube] Extracting URL: https://www.youtube.com/watch?v=5gPyNNXP-wA\n",
      "[youtube] 5gPyNNXP-wA: Downloading webpage\n",
      "[youtube] 5gPyNNXP-wA: Downloading ios player API JSON\n",
      "[youtube] 5gPyNNXP-wA: Downloading android player API JSON\n"
     ]
    },
    {
     "name": "stderr",
     "output_type": "stream",
     "text": [
      "ERROR: [youtube] 5gPyNNXP-wA: Private video. Sign in if you've been granted access to this video\n"
     ]
    },
    {
     "name": "stdout",
     "output_type": "stream",
     "text": [
      "Unvailable  5gPyNNXP-wA\n",
      "[youtube] Extracting URL: https://www.youtube.com/watch?v=5gPyNNXP-wA\n",
      "[youtube] 5gPyNNXP-wA: Downloading webpage\n",
      "[youtube] 5gPyNNXP-wA: Downloading ios player API JSON\n",
      "[youtube] 5gPyNNXP-wA: Downloading android player API JSON\n"
     ]
    },
    {
     "name": "stderr",
     "output_type": "stream",
     "text": [
      "ERROR: [youtube] 5gPyNNXP-wA: Private video. Sign in if you've been granted access to this video\n"
     ]
    },
    {
     "name": "stdout",
     "output_type": "stream",
     "text": [
      "Unvailable  5gPyNNXP-wA\n",
      "[youtube] Extracting URL: https://www.youtube.com/watch?v=5gPyNNXP-wA\n",
      "[youtube] 5gPyNNXP-wA: Downloading webpage\n",
      "[youtube] 5gPyNNXP-wA: Downloading ios player API JSON\n",
      "[youtube] 5gPyNNXP-wA: Downloading android player API JSON\n"
     ]
    },
    {
     "name": "stderr",
     "output_type": "stream",
     "text": [
      "ERROR: [youtube] 5gPyNNXP-wA: Private video. Sign in if you've been granted access to this video\n"
     ]
    },
    {
     "name": "stdout",
     "output_type": "stream",
     "text": [
      "Unvailable  5gPyNNXP-wA\n",
      "[youtube] Extracting URL: https://www.youtube.com/watch?v=5gPyNNXP-wA\n",
      "[youtube] 5gPyNNXP-wA: Downloading webpage\n",
      "[youtube] 5gPyNNXP-wA: Downloading ios player API JSON\n",
      "[youtube] 5gPyNNXP-wA: Downloading android player API JSON\n"
     ]
    },
    {
     "name": "stderr",
     "output_type": "stream",
     "text": [
      "ERROR: [youtube] 5gPyNNXP-wA: Private video. Sign in if you've been granted access to this video\n"
     ]
    },
    {
     "name": "stdout",
     "output_type": "stream",
     "text": [
      "Unvailable  5gPyNNXP-wA\n",
      "[youtube] Extracting URL: https://www.youtube.com/watch?v=5gPyNNXP-wA\n",
      "[youtube] 5gPyNNXP-wA: Downloading webpage\n",
      "[youtube] 5gPyNNXP-wA: Downloading ios player API JSON\n",
      "[youtube] 5gPyNNXP-wA: Downloading android player API JSON\n"
     ]
    },
    {
     "name": "stderr",
     "output_type": "stream",
     "text": [
      "ERROR: [youtube] 5gPyNNXP-wA: Private video. Sign in if you've been granted access to this video\n"
     ]
    },
    {
     "name": "stdout",
     "output_type": "stream",
     "text": [
      "Unvailable  5gPyNNXP-wA\n",
      "[youtube] Extracting URL: https://www.youtube.com/watch?v=0YsX8qv0FaI\n",
      "[youtube] 0YsX8qv0FaI: Downloading webpage\n",
      "[youtube] 0YsX8qv0FaI: Downloading ios player API JSON\n",
      "[youtube] 0YsX8qv0FaI: Downloading android player API JSON\n"
     ]
    },
    {
     "name": "stderr",
     "output_type": "stream",
     "text": [
      "ERROR: [youtube] 0YsX8qv0FaI: Private video. Sign in if you've been granted access to this video\n"
     ]
    },
    {
     "name": "stdout",
     "output_type": "stream",
     "text": [
      "Unvailable  0YsX8qv0FaI\n",
      "[youtube] Extracting URL: https://www.youtube.com/watch?v=0YsX8qv0FaI\n",
      "[youtube] 0YsX8qv0FaI: Downloading webpage\n",
      "[youtube] 0YsX8qv0FaI: Downloading ios player API JSON\n",
      "[youtube] 0YsX8qv0FaI: Downloading android player API JSON\n"
     ]
    },
    {
     "name": "stderr",
     "output_type": "stream",
     "text": [
      "ERROR: [youtube] 0YsX8qv0FaI: Private video. Sign in if you've been granted access to this video\n"
     ]
    },
    {
     "name": "stdout",
     "output_type": "stream",
     "text": [
      "Unvailable  0YsX8qv0FaI\n",
      "[youtube] Extracting URL: https://www.youtube.com/watch?v=ZO_G0-jBVH8\n",
      "[youtube] ZO_G0-jBVH8: Downloading webpage\n",
      "[youtube] ZO_G0-jBVH8: Downloading ios player API JSON\n",
      "[youtube] ZO_G0-jBVH8: Downloading android player API JSON\n"
     ]
    },
    {
     "name": "stderr",
     "output_type": "stream",
     "text": [
      "ERROR: [youtube] ZO_G0-jBVH8: Video unavailable\n"
     ]
    },
    {
     "name": "stdout",
     "output_type": "stream",
     "text": [
      "Unvailable  ZO_G0-jBVH8\n",
      "[youtube] Extracting URL: https://www.youtube.com/watch?v=ZO_G0-jBVH8\n",
      "[youtube] ZO_G0-jBVH8: Downloading webpage\n",
      "[youtube] ZO_G0-jBVH8: Downloading ios player API JSON\n",
      "[youtube] ZO_G0-jBVH8: Downloading android player API JSON\n"
     ]
    },
    {
     "name": "stderr",
     "output_type": "stream",
     "text": [
      "ERROR: [youtube] ZO_G0-jBVH8: Video unavailable\n"
     ]
    },
    {
     "name": "stdout",
     "output_type": "stream",
     "text": [
      "Unvailable  ZO_G0-jBVH8\n",
      "4/ 145, 7 / 2844 \n"
     ]
    }
   ],
   "source": [
    "new_train = {}\n",
    "new_val = {}\n",
    "new_test = {}\n",
    "video_names = {}\n",
    "vid_dict_train, vid_dict_val, vid_dict_test = {}, {}, {}\n",
    "unav_train_query_cnt, unav_val_query_cnt, unav_test_query_cnt, total_test_cnt, total_val_cnt = 0, 0, 0, 0, 0\n",
    "\n",
    "with open(os.path.join(txt_file_root, \"medvidqa_train_queries.txt\"), \"w\") as f:\n",
    "    for i, qa in tqdm(enumerate(train)):\n",
    "        if \"aNct84-0WZk\" in qa[\"video_id\"]:\n",
    "            #this video doesn't have audio and causes minilm text embedding extraction error due to empty string\n",
    "            #will not be used for hirest training set \n",
    "            continue\n",
    "        if qa['video_id'] in list_of_bad_videos:\n",
    "            continue\n",
    "        qa_dict = {}\n",
    "        video_id = qa['video_id'] + \".mp4\"\n",
    "        qa_dict[video_id] = {}\n",
    "        qa_dict[video_id]['relevant'] = True\n",
    "        qa_dict[video_id]['clip'] = True\n",
    "        qa_dict[video_id]['v_duration'] = qa['video_length']\n",
    "        qa_dict[video_id]['bounds'] = [qa['answer_start_second'], qa['answer_end_second']]\n",
    "        qa_dict[video_id]['steps'] = []\n",
    "        qa_dict['qid'] = qa['sample_id']\n",
    "        f.writelines(qa['question'] + \"\\n\")\n",
    "        total_test_cnt += 1\n",
    "        if os.path.exists(os.path.join(medvid_folder, qa['video_id'] + \".mp4\")):\n",
    "            new_train[qa['question']] = qa_dict\n",
    "            #only append when video is available for downloading\n",
    "            if qa['video_id'] not in vid_dict_train:\n",
    "                vid_dict_train[video_id] = qa_dict[video_id]['v_duration']\n",
    "            if qa['video_id'] not in video_names:\n",
    "                video_names[qa['video_id']] = []\n",
    "            continue\n",
    "        vid = qa['video_id']\n",
    "        dl_ops = {\n",
    "        'outtmpl': f'{medvid_folder}/{vid}.mp4'\n",
    "        }\n",
    "        try:\n",
    "            with YoutubeDL(dl_ops) as ydl:\n",
    "                ydl.download(qa['video_url'])\n",
    "            new_train.append(qa_dict)\n",
    "            #only append when video is available for downloading\n",
    "            if qa['video_id'] not in vid_dict_train:\n",
    "                vid_dict_train[video_id] = qa_dict[video_id]['v_duration']\n",
    "            if qa['video_id'] not in video_names:\n",
    "                video_names[qa['video_id']] = []\n",
    "            \n",
    "        except:\n",
    "            print(\"Unvailable \", qa['video_id'])\n",
    "            unav_train_query_cnt += 1\n",
    "\n",
    "with open(os.path.join(txt_file_root, \"medvidqa_test_queries.txt\"), \"w\") as f:\n",
    "    for i, qa in enumerate(test):\n",
    "        qa_dict = {}\n",
    "        video_id = qa['video_id'] + \".mp4\"\n",
    "        qa_dict[video_id] = {}\n",
    "        qa_dict[video_id]['relevant'] = True\n",
    "        qa_dict[video_id]['clip'] = True\n",
    "        qa_dict[video_id]['v_duration'] = qa['video_length']\n",
    "        qa_dict[video_id]['bounds'] = [qa['answer_start_second'], qa['answer_end_second']]\n",
    "        qa_dict[video_id]['steps'] = []\n",
    "        qa_dict['qid'] = qa['sample_id']\n",
    "        f.writelines(qa['question'] + \"\\n\")\n",
    "        total_test_cnt += 1\n",
    "        if os.path.exists(os.path.join(medvid_folder, qa['video_id'] + \".mp4\")):\n",
    "            new_test[qa['question']] = qa_dict\n",
    "            #only append when video is available for downloading\n",
    "            if qa['video_id'] not in vid_dict_test:\n",
    "                vid_dict_test[video_id] = qa_dict[video_id]['v_duration']\n",
    "            if qa['video_id'] not in video_names:\n",
    "                video_names[qa['video_id']] = []\n",
    "            continue\n",
    "        vid = qa['video_id']\n",
    "        dl_ops = {\n",
    "        'outtmpl': f'{medvid_folder}/{vid}.mp4'\n",
    "        }\n",
    "        try:\n",
    "            with YoutubeDL(dl_ops) as ydl:\n",
    "                ydl.download(qa['video_url'])\n",
    "            new_test.append(qa_dict)\n",
    "            #only append when video is available for downloading\n",
    "            if qa['video_id'] not in vid_dict_test:\n",
    "                vid_dict_test[video_id] = qa_dict[video_id]['v_duration']\n",
    "            if qa['video_id'] not in video_names:\n",
    "                video_names[qa['video_id']] = []\n",
    "            \n",
    "        except:\n",
    "            print(\"Unvailable \", qa['video_id'])\n",
    "            unav_test_query_cnt += 1\n",
    "\n",
    "with open(os.path.join(txt_file_root, \"medvidqa_val_queries.txt\"), \"w\") as f:\n",
    "    for i, qa in enumerate(val):\n",
    "        qa_dict = {}\n",
    "        video_id = qa['video_id'] + \".mp4\"\n",
    "        qa_dict[video_id] = {}\n",
    "        qa_dict[video_id]['relevant'] = True\n",
    "        qa_dict[video_id]['clip'] = True\n",
    "        qa_dict[video_id]['v_duration'] = qa['video_length']\n",
    "        qa_dict[video_id]['bounds'] = [qa['answer_start_second'], qa['answer_end_second']]\n",
    "        qa_dict[video_id]['steps'] = []\n",
    "        qa_dict['qid'] = qa['sample_id']\n",
    "        f.writelines(qa['question'] + \"\\n\")\n",
    "        total_val_cnt += 1\n",
    "        if os.path.exists(os.path.join(medvid_folder, qa['video_id'] + \".mp4\")):\n",
    "            new_val[qa['question']] = qa_dict\n",
    "            if qa['video_id'] not in vid_dict_val:\n",
    "                vid_dict_val[video_id] = qa_dict[video_id]['v_duration']\n",
    "            if qa['video_id'] not in video_names:\n",
    "                video_names[qa['video_id']] = []\n",
    "            continue\n",
    "        vid = qa['video_id']\n",
    "        dl_ops = {\n",
    "        'outtmpl': f'{medvid_folder}/{vid}.mp4'\n",
    "        }\n",
    "        try:\n",
    "            with YoutubeDL(dl_ops) as ydl:\n",
    "                ydl.download(qa['video_url'])\n",
    "            new_val.append(qa_dict)\n",
    "            #only append when video is available for downloading\n",
    "            if qa['video_id'] not in vid_dict_val:\n",
    "                vid_dict_val[video_id] = qa_dict[video_id]['v_duration']\n",
    "            if qa['video_id'] not in video_names:\n",
    "                video_names[qa['video_id']] = []\n",
    "        except:\n",
    "            print(\"Unvailable \", qa['video_id'])\n",
    "            unav_val_query_cnt += 1\n",
    "print(f\"{unav_val_query_cnt}/ {total_val_cnt}, {unav_test_query_cnt} / {total_test_cnt} \")"
   ]
  },
  {
   "cell_type": "code",
   "execution_count": 39,
   "metadata": {},
   "outputs": [],
   "source": [
    "save_json(new_train, f'{vid_json_folder}/all_data_train.json')\n",
    "save_json(new_val, f'{vid_json_folder}/all_data_val.json')\n",
    "save_json(new_test, f'{vid_json_folder}/all_data_test.json')"
   ]
  },
  {
   "cell_type": "code",
   "execution_count": 50,
   "metadata": {},
   "outputs": [
    {
     "name": "stdout",
     "output_type": "stream",
     "text": [
      "O1kiguGUt3o.mp4 98 97\n",
      "5GO18A5-ZtQ.mp4 573 572\n",
      "CvW-Zq3NlkU.mp4 84 83\n",
      "wkF8OwsyNNQ.mp4 118 117\n",
      "nopgqBoUmYg.mp4 103 102\n",
      "71LlfdW548U.mp4 312 311\n",
      "gJOMV2mZ1B0.mp4 72 71\n",
      "E92qqAftUak.mp4 78 77\n",
      "s4wUKmr2xtA.mp4 827 826\n",
      "pYzUQb79_Rw.mp4 326 325\n",
      "tr7JKUxwqwA.mp4 303 302\n",
      "2oXoiQfija4.mp4 408 407\n",
      "AtKU8zw2Jxg.mp4 596 595\n",
      "N59oOxyaE1A.mp4 618 617\n",
      "RRLY6anXXQo.mp4 71 70\n",
      "lwhYbWFtNuE.mp4 137 136\n",
      "hJ3XICFLxvU.mp4 361 360\n",
      "lfhDPB8LaTk.mp4 392 391\n",
      "bUgV89cdfTM.mp4 105 104\n",
      "6kQEDRQdJZ8.mp4 583 582\n",
      "kSpggqOLgaU.mp4 451 450\n",
      "0dr5yuoBOF4.mp4 377 376\n",
      "M6WV95X0fRk.mp4 91 90\n",
      "fsdchGejKmU.mp4 618 617\n",
      "g-gNQPyxU4c.mp4 686 685\n",
      "UZqktEPlxTU.mp4 119 118\n",
      "LL854--GBy4.mp4 586 585\n",
      "VykLxY9mzug.mp4 742 741\n",
      "GUg4zMpchhk.mp4 530 529\n",
      "1Nr6wPFz09A.mp4 227 226\n",
      "B9yiDTONlOs.mp4 157 156\n",
      "hekjiCqb9-g.mp4 105 104\n",
      "-Zx3pWhMBjw.mp4 234 233\n",
      "4h3V6F4Rl_k.mp4 406 405\n",
      "vgW6ZD_QwwQ.mp4 411 410\n",
      "CWRWeoaqi8k.mp4 423 422\n",
      "R9oWYkK_l3M.mp4 165 164\n",
      "xYFeFFzFftw.mp4 566 565\n",
      "not in any\n",
      "not in any\n",
      "not in any\n",
      "not in any\n",
      "not in any\n",
      "not in any\n",
      "not in any\n",
      "not in any\n",
      "not in any\n",
      "not in any\n",
      "not in any\n",
      "not in any\n",
      "not in any\n",
      "not in any\n",
      "not in any\n",
      "not in any\n",
      "not in any\n",
      "not in any\n",
      "not in any\n",
      "not in any\n",
      "not in any\n",
      "not in any\n",
      "not in any\n",
      "not in any\n",
      "not in any\n",
      "not in any\n",
      "not in any\n",
      "not in any\n",
      "not in any\n",
      "not in any\n",
      "not in any\n",
      "not in any\n",
      "not in any\n",
      "not in any\n",
      "not in any\n",
      "not in any\n",
      "not in any\n",
      "not in any\n",
      "not in any\n",
      "not in any\n",
      "not in any\n",
      "not in any\n",
      "not in any\n",
      "not in any\n",
      "not in any\n",
      "not in any\n",
      "not in any\n",
      "not in any\n",
      "not in any\n",
      "not in any\n",
      "not in any\n",
      "not in any\n",
      "not in any\n",
      "not in any\n",
      "not in any\n",
      "not in any\n",
      "not in any\n",
      "not in any\n",
      "not in any\n",
      "not in any\n",
      "not in any\n",
      "not in any\n",
      "not in any\n",
      "not in any\n",
      "not in any\n",
      "not in any\n",
      "not in any\n",
      "not in any\n",
      "not in any\n",
      "not in any\n",
      "not in any\n",
      "not in any\n",
      "not in any\n",
      "not in any\n",
      "not in any\n",
      "not in any\n",
      "not in any\n",
      "not in any\n",
      "not in any\n",
      "not in any\n",
      "not in any\n",
      "not in any\n",
      "not in any\n",
      "not in any\n",
      "not in any\n",
      "not in any\n",
      "not in any\n",
      "not in any\n",
      "not in any\n",
      "not in any\n",
      "not in any\n",
      "not in any\n",
      "not in any\n",
      "not in any\n",
      "not in any\n",
      "not in any\n",
      "not in any\n",
      "not in any\n",
      "not in any\n",
      "not in any\n",
      "not in any\n",
      "not in any\n",
      "not in any\n",
      "not in any\n",
      "not in any\n",
      "not in any\n",
      "not in any\n",
      "not in any\n",
      "not in any\n",
      "not in any\n",
      "not in any\n",
      "not in any\n",
      "not in any\n",
      "not in any\n",
      "not in any\n",
      "not in any\n",
      "not in any\n",
      "not in any\n",
      "not in any\n",
      "not in any\n",
      "not in any\n",
      "not in any\n",
      "not in any\n",
      "not in any\n",
      "not in any\n",
      "not in any\n",
      "not in any\n",
      "not in any\n",
      "not in any\n",
      "not in any\n",
      "not in any\n",
      "not in any\n",
      "not in any\n",
      "not in any\n",
      "not in any\n",
      "not in any\n",
      "not in any\n",
      "not in any\n",
      "not in any\n",
      "not in any\n",
      "not in any\n",
      "not in any\n",
      "not in any\n",
      "not in any\n",
      "not in any\n",
      "not in any\n",
      "not in any\n",
      "not in any\n",
      "not in any\n",
      "not in any\n",
      "not in any\n",
      "not in any\n",
      "not in any\n",
      "not in any\n",
      "not in any\n",
      "not in any\n",
      "not in any\n",
      "not in any\n",
      "not in any\n",
      "not in any\n",
      "not in any\n",
      "not in any\n",
      "not in any\n",
      "not in any\n",
      "not in any\n",
      "not in any\n",
      "not in any\n",
      "not in any\n",
      "not in any\n",
      "not in any\n",
      "not in any\n",
      "not in any\n",
      "not in any\n",
      "not in any\n",
      "not in any\n",
      "not in any\n",
      "not in any\n",
      "not in any\n",
      "not in any\n",
      "not in any\n",
      "not in any\n",
      "not in any\n",
      "not in any\n",
      "not in any\n",
      "not in any\n",
      "not in any\n",
      "not in any\n",
      "not in any\n",
      "not in any\n",
      "not in any\n",
      "not in any\n",
      "not in any\n",
      "not in any\n",
      "not in any\n",
      "not in any\n",
      "not in any\n",
      "not in any\n",
      "not in any\n",
      "not in any\n",
      "not in any\n",
      "not in any\n",
      "not in any\n",
      "not in any\n",
      "not in any\n",
      "not in any\n",
      "not in any\n",
      "not in any\n",
      "not in any\n",
      "not in any\n",
      "not in any\n",
      "not in any\n",
      "not in any\n",
      "not in any\n",
      "not in any\n",
      "not in any\n",
      "not in any\n",
      "not in any\n",
      "not in any\n",
      "not in any\n",
      "not in any\n",
      "not in any\n",
      "not in any\n",
      "not in any\n",
      "not in any\n",
      "not in any\n",
      "not in any\n",
      "not in any\n",
      "not in any\n",
      "not in any\n",
      "not in any\n",
      "not in any\n",
      "not in any\n",
      "not in any\n",
      "not in any\n",
      "not in any\n",
      "not in any\n",
      "not in any\n",
      "not in any\n",
      "not in any\n",
      "not in any\n",
      "not in any\n",
      "not in any\n",
      "not in any\n",
      "not in any\n",
      "not in any\n",
      "not in any\n",
      "not in any\n",
      "not in any\n",
      "not in any\n",
      "not in any\n",
      "not in any\n",
      "not in any\n",
      "not in any\n",
      "not in any\n",
      "not in any\n",
      "not in any\n",
      "not in any\n",
      "not in any\n",
      "not in any\n",
      "not in any\n",
      "not in any\n",
      "not in any\n",
      "not in any\n",
      "not in any\n",
      "not in any\n",
      "not in any\n",
      "not in any\n",
      "not in any\n",
      "not in any\n",
      "not in any\n",
      "not in any\n",
      "not in any\n",
      "not in any\n",
      "not in any\n",
      "not in any\n",
      "not in any\n",
      "not in any\n",
      "not in any\n",
      "not in any\n",
      "not in any\n",
      "not in any\n",
      "not in any\n",
      "not in any\n",
      "not in any\n",
      "not in any\n",
      "not in any\n",
      "not in any\n",
      "not in any\n",
      "not in any\n",
      "not in any\n",
      "not in any\n",
      "not in any\n",
      "not in any\n",
      "not in any\n",
      "not in any\n",
      "not in any\n",
      "not in any\n",
      "not in any\n",
      "not in any\n",
      "not in any\n",
      "not in any\n",
      "not in any\n",
      "not in any\n",
      "not in any\n",
      "not in any\n",
      "not in any\n",
      "not in any\n",
      "not in any\n",
      "not in any\n",
      "not in any\n",
      "not in any\n",
      "not in any\n",
      "not in any\n",
      "not in any\n",
      "not in any\n",
      "not in any\n",
      "not in any\n",
      "not in any\n",
      "not in any\n",
      "not in any\n",
      "not in any\n",
      "not in any\n",
      "not in any\n",
      "not in any\n",
      "not in any\n",
      "not in any\n",
      "not in any\n",
      "not in any\n",
      "not in any\n",
      "not in any\n",
      "not in any\n",
      "not in any\n",
      "not in any\n",
      "not in any\n",
      "not in any\n",
      "not in any\n",
      "not in any\n",
      "not in any\n",
      "not in any\n",
      "not in any\n",
      "not in any\n",
      "not in any\n",
      "not in any\n",
      "not in any\n",
      "not in any\n",
      "not in any\n",
      "not in any\n",
      "not in any\n",
      "not in any\n",
      "not in any\n",
      "not in any\n",
      "not in any\n",
      "not in any\n",
      "not in any\n",
      "not in any\n",
      "not in any\n",
      "not in any\n",
      "not in any\n",
      "not in any\n",
      "not in any\n",
      "not in any\n",
      "not in any\n",
      "not in any\n",
      "not in any\n",
      "not in any\n",
      "not in any\n",
      "not in any\n",
      "not in any\n",
      "not in any\n",
      "not in any\n",
      "not in any\n",
      "not in any\n",
      "not in any\n",
      "not in any\n",
      "not in any\n",
      "not in any\n",
      "not in any\n",
      "not in any\n",
      "not in any\n",
      "not in any\n",
      "not in any\n",
      "not in any\n",
      "not in any\n",
      "not in any\n",
      "not in any\n",
      "not in any\n",
      "not in any\n",
      "not in any\n",
      "not in any\n",
      "not in any\n",
      "not in any\n",
      "not in any\n",
      "not in any\n",
      "not in any\n",
      "not in any\n",
      "not in any\n",
      "not in any\n",
      "not in any\n",
      "not in any\n",
      "not in any\n",
      "not in any\n",
      "not in any\n",
      "not in any\n",
      "not in any\n",
      "not in any\n",
      "not in any\n",
      "not in any\n",
      "not in any\n",
      "not in any\n",
      "not in any\n",
      "not in any\n",
      "not in any\n",
      "not in any\n",
      "not in any\n",
      "not in any\n",
      "not in any\n",
      "not in any\n",
      "not in any\n",
      "not in any\n",
      "not in any\n",
      "not in any\n",
      "not in any\n",
      "not in any\n",
      "not in any\n",
      "not in any\n",
      "not in any\n",
      "not in any\n",
      "not in any\n",
      "not in any\n",
      "not in any\n",
      "not in any\n",
      "not in any\n",
      "not in any\n",
      "not in any\n",
      "not in any\n",
      "not in any\n",
      "not in any\n",
      "not in any\n",
      "not in any\n",
      "not in any\n",
      "not in any\n",
      "not in any\n",
      "not in any\n",
      "not in any\n",
      "not in any\n",
      "not in any\n",
      "not in any\n",
      "not in any\n",
      "not in any\n",
      "not in any\n",
      "not in any\n",
      "not in any\n",
      "not in any\n",
      "not in any\n",
      "not in any\n",
      "not in any\n",
      "not in any\n",
      "not in any\n",
      "not in any\n",
      "not in any\n",
      "not in any\n",
      "not in any\n",
      "not in any\n",
      "not in any\n",
      "not in any\n",
      "not in any\n",
      "not in any\n",
      "not in any\n",
      "not in any\n",
      "not in any\n",
      "not in any\n",
      "not in any\n",
      "not in any\n",
      "not in any\n",
      "not in any\n",
      "not in any\n",
      "not in any\n",
      "not in any\n",
      "not in any\n",
      "not in any\n",
      "not in any\n",
      "not in any\n",
      "not in any\n",
      "not in any\n",
      "not in any\n",
      "not in any\n",
      "not in any\n",
      "not in any\n",
      "not in any\n",
      "not in any\n",
      "not in any\n",
      "not in any\n",
      "not in any\n",
      "not in any\n",
      "not in any\n",
      "not in any\n",
      "not in any\n",
      "not in any\n",
      "not in any\n",
      "not in any\n",
      "not in any\n",
      "not in any\n",
      "not in any\n",
      "not in any\n",
      "not in any\n",
      "not in any\n",
      "not in any\n",
      "not in any\n",
      "not in any\n",
      "not in any\n",
      "not in any\n",
      "not in any\n",
      "not in any\n",
      "not in any\n",
      "not in any\n",
      "not in any\n",
      "not in any\n",
      "not in any\n",
      "not in any\n",
      "not in any\n",
      "not in any\n",
      "not in any\n",
      "not in any\n",
      "not in any\n",
      "not in any\n",
      "not in any\n",
      "not in any\n",
      "not in any\n",
      "not in any\n",
      "not in any\n",
      "not in any\n",
      "not in any\n",
      "not in any\n",
      "not in any\n",
      "not in any\n",
      "not in any\n",
      "not in any\n",
      "not in any\n",
      "not in any\n",
      "not in any\n",
      "not in any\n",
      "not in any\n",
      "not in any\n",
      "not in any\n",
      "not in any\n",
      "not in any\n",
      "not in any\n",
      "not in any\n",
      "not in any\n",
      "not in any\n",
      "not in any\n",
      "not in any\n",
      "not in any\n",
      "not in any\n",
      "not in any\n",
      "not in any\n",
      "not in any\n",
      "not in any\n",
      "not in any\n",
      "not in any\n",
      "not in any\n",
      "not in any\n",
      "not in any\n",
      "not in any\n",
      "not in any\n",
      "not in any\n",
      "not in any\n",
      "not in any\n",
      "not in any\n",
      "not in any\n",
      "not in any\n",
      "not in any\n",
      "not in any\n",
      "not in any\n",
      "not in any\n",
      "not in any\n",
      "not in any\n",
      "not in any\n",
      "not in any\n",
      "not in any\n",
      "not in any\n",
      "not in any\n",
      "not in any\n",
      "not in any\n",
      "not in any\n",
      "not in any\n",
      "not in any\n",
      "not in any\n",
      "not in any\n",
      "not in any\n",
      "not in any\n",
      "not in any\n",
      "not in any\n",
      "not in any\n",
      "not in any\n",
      "not in any\n",
      "not in any\n",
      "not in any\n",
      "not in any\n",
      "not in any\n",
      "not in any\n",
      "not in any\n",
      "not in any\n",
      "not in any\n",
      "not in any\n",
      "not in any\n",
      "not in any\n",
      "not in any\n",
      "not in any\n",
      "not in any\n",
      "not in any\n",
      "not in any\n",
      "not in any\n",
      "not in any\n",
      "not in any\n",
      "not in any\n",
      "not in any\n",
      "not in any\n",
      "not in any\n",
      "not in any\n",
      "not in any\n",
      "not in any\n",
      "not in any\n",
      "not in any\n",
      "not in any\n",
      "not in any\n",
      "not in any\n",
      "not in any\n",
      "not in any\n",
      "not in any\n",
      "not in any\n",
      "not in any\n",
      "not in any\n",
      "not in any\n",
      "not in any\n",
      "not in any\n",
      "not in any\n",
      "not in any\n",
      "not in any\n",
      "not in any\n",
      "not in any\n",
      "not in any\n",
      "not in any\n",
      "not in any\n",
      "not in any\n",
      "not in any\n",
      "not in any\n",
      "not in any\n",
      "not in any\n",
      "not in any\n",
      "not in any\n",
      "not in any\n",
      "not in any\n",
      "not in any\n",
      "not in any\n",
      "not in any\n",
      "not in any\n",
      "not in any\n",
      "not in any\n",
      "not in any\n",
      "not in any\n",
      "not in any\n",
      "not in any\n",
      "not in any\n",
      "not in any\n",
      "not in any\n",
      "not in any\n",
      "not in any\n",
      "not in any\n",
      "not in any\n",
      "not in any\n",
      "not in any\n",
      "not in any\n",
      "not in any\n",
      "not in any\n",
      "not in any\n",
      "not in any\n",
      "not in any\n",
      "not in any\n",
      "not in any\n",
      "not in any\n",
      "not in any\n",
      "not in any\n",
      "not in any\n",
      "not in any\n",
      "not in any\n",
      "not in any\n",
      "not in any\n",
      "not in any\n",
      "not in any\n",
      "not in any\n",
      "not in any\n",
      "not in any\n",
      "not in any\n",
      "not in any\n",
      "not in any\n",
      "not in any\n",
      "not in any\n",
      "not in any\n",
      "not in any\n",
      "not in any\n",
      "not in any\n",
      "not in any\n",
      "not in any\n",
      "not in any\n",
      "not in any\n",
      "not in any\n",
      "not in any\n",
      "not in any\n",
      "not in any\n",
      "not in any\n",
      "not in any\n",
      "not in any\n",
      "not in any\n",
      "not in any\n",
      "not in any\n",
      "not in any\n",
      "not in any\n",
      "not in any\n",
      "not in any\n",
      "not in any\n",
      "not in any\n",
      "not in any\n",
      "not in any\n",
      "not in any\n",
      "not in any\n",
      "not in any\n",
      "not in any\n",
      "not in any\n",
      "not in any\n",
      "not in any\n",
      "not in any\n",
      "not in any\n",
      "not in any\n",
      "not in any\n",
      "not in any\n",
      "not in any\n",
      "not in any\n",
      "not in any\n",
      "not in any\n",
      "not in any\n",
      "not in any\n",
      "not in any\n",
      "not in any\n",
      "not in any\n",
      "not in any\n",
      "not in any\n",
      "not in any\n",
      "not in any\n",
      "not in any\n",
      "not in any\n",
      "not in any\n",
      "not in any\n",
      "not in any\n",
      "not in any\n",
      "not in any\n",
      "not in any\n",
      "not in any\n",
      "not in any\n",
      "not in any\n",
      "not in any\n",
      "not in any\n",
      "not in any\n",
      "not in any\n",
      "not in any\n",
      "not in any\n",
      "not in any\n",
      "not in any\n",
      "not in any\n"
     ]
    }
   ],
   "source": [
    "#dont need to run it, this is for verifying vid length and frame extraction\n",
    "raw_frames_path = \"/home/hlpark/REDUCE/REDUCE_benchmarks/HiREST/data/medvidqa/raw_frames\"\n",
    "for r, d, f in os.walk(raw_frames_path):\n",
    "    for dir in d:\n",
    "        for _, _, files in os.walk(os.path.join(r, dir)):\n",
    "            if dir in vid_dict_val and vid_dict_val[dir]!= len(files):\n",
    "                print(dir, len(files), vid_dict_val[dir])\n",
    "            elif dir in vid_dict_test and vid_dict_test[dir] != len(files):\n",
    "                print(dir, len(files), vid_dict_test[dir])\n",
    "            else:\n",
    "                if dir not in vid_dict_val and dir not in vid_dict_test:\n",
    "                    print(\"not in any\")"
   ]
  },
  {
   "cell_type": "code",
   "execution_count": 92,
   "metadata": {},
   "outputs": [],
   "source": [
    "weak_label_path = \"/home/hlpark/REDUCE/REDUCE_benchmarks/HiREST/data/splits/medvidqa/five_labeled_pred_med_from_gt_vid_dict.json\"\n",
    "weak_label = json.load(open(weak_label_path))"
   ]
  },
  {
   "cell_type": "code",
   "execution_count": 93,
   "metadata": {},
   "outputs": [],
   "source": [
    "list_of_bad_videos = ['SztsZNp-jDM', 'OKXoHwkx55c', 'V9j5JkWGwI8', 'ehl2MPczYoQ', 'mMNloo140pU', 'QwhD5UTUW60', 'Ehan_VI7p4c']"
   ]
  },
  {
   "cell_type": "code",
   "execution_count": 106,
   "metadata": {},
   "outputs": [],
   "source": [
    "error_videos = ['G2tP1mJHbAg', 'lUBQ7-uOWKw', 'GSbjwzyuUoo', 'f_w82yx87KI', 'ILoZc6rpdU8', 'Q8m25MkEr0o', 'EnAyXA3_Mo4', 'Ur7UCjQTV9E', '6_hrMBnA1VA', 'Mx0PPNwfdvE', 'Q1ifxZ3lR2o']"
   ]
  },
  {
   "cell_type": "code",
   "execution_count": 107,
   "metadata": {},
   "outputs": [
    {
     "name": "stderr",
     "output_type": "stream",
     "text": [
      "2710it [00:00, 74896.81it/s]\n"
     ]
    }
   ],
   "source": [
    "new_train_med = {}\n",
    "new_train_nonmed = {}\n",
    "new_train_both = {}\n",
    "for i, qa in tqdm(enumerate(train)):\n",
    "    if \"aNct84-0WZk\" in qa[\"video_id\"]:\n",
    "        #this video doesn't have audio and causes minilm text embedding extraction error due to empty string\n",
    "        #will not be used for hirest training set \n",
    "        continue\n",
    "    if qa['video_id'] in list_of_bad_videos + error_videos:\n",
    "        continue\n",
    "    qa_dict = {}\n",
    "    video_id = qa['video_id'] + \".mp4\"\n",
    "    qa_dict[video_id] = {}\n",
    "    qa_dict[video_id]['relevant'] = True\n",
    "    qa_dict[video_id]['clip'] = True\n",
    "    qa_dict[video_id]['v_duration'] = qa['video_length']\n",
    "    qa_dict[video_id]['bounds'] = [qa['answer_start_second'], qa['answer_end_second']]\n",
    "    qa_dict[video_id]['steps'] = []\n",
    "    qa_dict['qid'] = qa['sample_id']\n",
    "    \n",
    "    if qa['video_id'] in weak_label:\n",
    "        for idx, q in enumerate(weak_label[qa['video_id']]):\n",
    "            if qa['question'] not in q:\n",
    "                continue\n",
    "            if q[qa['question']] == \"med\":\n",
    "                new_train_med[qa['question']] = qa_dict\n",
    "            elif q[qa['question']] == \"nonmed\":\n",
    "                new_train_nonmed[qa['question']] = qa_dict\n",
    "            new_train_both[qa['question']] = qa_dict\n",
    "        \n"
   ]
  },
  {
   "cell_type": "code",
   "execution_count": null,
   "metadata": {},
   "outputs": [],
   "source": []
  },
  {
   "cell_type": "code",
   "execution_count": 108,
   "metadata": {},
   "outputs": [],
   "source": [
    "save_json(new_train_med, f'{vid_json_folder}/visual_medical_train.json')\n",
    "save_json(new_train_nonmed, f'{vid_json_folder}/visual_nonmedical_train.json')\n",
    "save_json(new_train_both, f'{vid_json_folder}/postprocessed_train.json')"
   ]
  },
  {
   "cell_type": "code",
   "execution_count": null,
   "metadata": {},
   "outputs": [],
   "source": []
  },
  {
   "cell_type": "code",
   "execution_count": null,
   "metadata": {},
   "outputs": [],
   "source": []
  }
 ],
 "metadata": {
  "kernelspec": {
   "display_name": "hirest",
   "language": "python",
   "name": "python3"
  },
  "language_info": {
   "codemirror_mode": {
    "name": "ipython",
    "version": 3
   },
   "file_extension": ".py",
   "mimetype": "text/x-python",
   "name": "python",
   "nbconvert_exporter": "python",
   "pygments_lexer": "ipython3",
   "version": "3.8.18"
  }
 },
 "nbformat": 4,
 "nbformat_minor": 2
}
