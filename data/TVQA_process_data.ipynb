{
 "cells": [
  {
   "cell_type": "code",
   "execution_count": 1,
   "metadata": {},
   "outputs": [],
   "source": [
    "import os\n",
    "import json\n",
    "import pandas as pd\n",
    "from moviepy.editor import VideoFileClip\n",
    "from tqdm import tqdm"
   ]
  },
  {
   "cell_type": "code",
   "execution_count": 2,
   "metadata": {},
   "outputs": [],
   "source": [
    "def save_json(content, save_path):\n",
    "    with open(save_path, 'w') as f:\n",
    "        f.write(json.dumps(content))\n",
    "def load_jsonl(filename):\n",
    "    with open(filename, \"r\") as f:\n",
    "        return [json.loads(l.strip(\"\\n\")) for l in f.readlines()]"
   ]
  },
  {
   "cell_type": "code",
   "execution_count": 3,
   "metadata": {},
   "outputs": [],
   "source": [
    "#input json\n",
    "#set medical video download folder\n",
    "tvqa_folder = \"/home/hlpark/shared/TVQA/video/video_files/\"\n",
    "if not os.path.exists(tvqa_folder):\n",
    "    os.makedirs(tvqa_folder)\n",
    "\n",
    "eval_folder = \"/home/hlpark/REDUCE/REDUCE_benchmarks/HiREST/data/evaluation/tvqa\"\n",
    "if not os.path.exists(eval_folder):\n",
    "    os.makedirs(eval_folder)\n",
    "\n",
    "vid_json_folder = \"/home/hlpark/REDUCE/REDUCE_benchmarks/HiREST/data/splits/tvqa\"\n",
    "if not os.path.exists(vid_json_folder):\n",
    "    os.makedirs(vid_json_folder)"
   ]
  },
  {
   "cell_type": "code",
   "execution_count": 4,
   "metadata": {},
   "outputs": [],
   "source": [
    "#video duration json file\n",
    "vid_duration_json = \"/home/hlpark/REDUCE/REDUCE_benchmarks/HiREST/data/splits/tvqa/video_duration.json\""
   ]
  },
  {
   "cell_type": "code",
   "execution_count": 4,
   "metadata": {},
   "outputs": [
    {
     "name": "stderr",
     "output_type": "stream",
     "text": [
      "100%|██████████| 21829/21829 [26:03<00:00, 13.96it/s]\n"
     ]
    }
   ],
   "source": [
    "#read all video duration\n",
    "video_duration_dict = {}\n",
    "for root, dir, files in os.walk(os.path.join(tvqa_folder)):\n",
    "     for f in tqdm(files):\n",
    "        video_path = os.path.join(tvqa_folder, f)\n",
    "        if video_path.endswith(\".mp4\"):\n",
    "            video = VideoFileClip(video_path)\n",
    "        else:\n",
    "            video = VideoFileClip(video_path + \".mp4\")\n",
    "        v_duration = video.duration\n",
    "        video_duration_dict[f] = v_duration"
   ]
  },
  {
   "cell_type": "code",
   "execution_count": 6,
   "metadata": {},
   "outputs": [],
   "source": [
    "save_json(video_duration_dict, vid_duration_json)"
   ]
  },
  {
   "cell_type": "code",
   "execution_count": 5,
   "metadata": {},
   "outputs": [],
   "source": [
    "video_duration_dict = load_jsonl(vid_duration_json)[0]"
   ]
  },
  {
   "cell_type": "code",
   "execution_count": 6,
   "metadata": {},
   "outputs": [],
   "source": [
    "train_path = '/home/hlpark/shared/TVQA/tvqa_qa_release/tvqa_train.jsonl'\n",
    "val_path = '/home/hlpark/shared/TVQA/tvqa_qa_release/tvqa_val.jsonl'\n",
    "test_path = '/home/hlpark/shared/TVQA/tvqa_qa_release/tvqa_test_public.jsonl'"
   ]
  },
  {
   "cell_type": "code",
   "execution_count": 7,
   "metadata": {},
   "outputs": [],
   "source": [
    "train = load_jsonl(train_path)\n",
    "val = load_jsonl(val_path)\n",
    "test = load_jsonl(test_path)"
   ]
  },
  {
   "cell_type": "code",
   "execution_count": 8,
   "metadata": {},
   "outputs": [
    {
     "name": "stdout",
     "output_type": "stream",
     "text": [
      "7623\n"
     ]
    }
   ],
   "source": [
    "print(len(test))"
   ]
  },
  {
   "cell_type": "code",
   "execution_count": 10,
   "metadata": {},
   "outputs": [],
   "source": [
    "txt_file_root_path = \"/home/hlpark/shared/TVQA\""
   ]
  },
  {
   "cell_type": "code",
   "execution_count": 12,
   "metadata": {},
   "outputs": [],
   "source": [
    "new_train = {}\n",
    "new_val = {}\n",
    "new_test = {}\n",
    "video_names = {}\n",
    "vid_dict_train, vid_dict_val, vid_dict_test = {}, {}, {}\n",
    "unav_train_query_cnt, unav_val_query_cnt, unav_test_query_cnt = 0, 0, 0\n",
    "with open(os.path.join(txt_file_root_path, \"tvqa_test_queries.txt\"), \"w\") as f:\n",
    "    for i, qa in enumerate(test):\n",
    "        qa_dict = {}\n",
    "        video_id = qa['vid_name'] + \".mp4\"\n",
    "        qa_dict[video_id] = {}\n",
    "        qa_dict[video_id]['relevant'] = True\n",
    "        qa_dict[video_id]['clip'] = True\n",
    "        qa_dict[video_id]['bounds'] = [qa['ts'].split('-')[0], qa['ts'].split('-')[1]]\n",
    "        qa_dict[video_id]['steps'] = []\n",
    "        qa_dict['qid'] = qa['qid']\n",
    "        \n",
    "        qa_dict[video_id]['v_duration'] = video_duration_dict[video_id]\n",
    "        new_test[qa['q']] = qa_dict\n",
    "        f.writelines(qa['q'] + \"\\n\")\n",
    "with open(os.path.join(txt_file_root_path, \"tvqa_val_queries.txt\"), \"w\") as f:\n",
    "    for i, qa in enumerate(val):\n",
    "        qa_dict = {}\n",
    "        video_id = qa['vid_name'] + \".mp4\"\n",
    "        qa_dict[video_id] = {}\n",
    "        qa_dict[video_id]['relevant'] = True\n",
    "        qa_dict[video_id]['clip'] = True\n",
    "        qa_dict[video_id]['bounds'] = [qa['ts'].split('-')[0], qa['ts'].split('-')[1]]\n",
    "        qa_dict[video_id]['steps'] = []\n",
    "        qa_dict['qid'] = qa['qid']\n",
    "\n",
    "        qa_dict[video_id]['v_duration'] = video_duration_dict[video_id]\n",
    "        f.writelines(qa['q'] + \"\\n\")"
   ]
  },
  {
   "cell_type": "code",
   "execution_count": 13,
   "metadata": {},
   "outputs": [],
   "source": [
    "save_json(new_val, f'{vid_json_folder}/all_data_val.json')\n",
    "save_json(new_test, f'{vid_json_folder}/all_data_test.json')"
   ]
  },
  {
   "cell_type": "code",
   "execution_count": 5,
   "metadata": {},
   "outputs": [],
   "source": [
    "def load_result_json(filename):\n",
    "    with open(filename, \"r\") as f:\n",
    "        data = json.load(f)\n",
    "    return data"
   ]
  },
  {
   "cell_type": "code",
   "execution_count": 6,
   "metadata": {},
   "outputs": [],
   "source": [
    "test_json = load_result_json(f'{vid_json_folder}/all_data_test.json')"
   ]
  },
  {
   "cell_type": "code",
   "execution_count": null,
   "metadata": {},
   "outputs": [],
   "source": []
  }
 ],
 "metadata": {
  "kernelspec": {
   "display_name": "hirest",
   "language": "python",
   "name": "python3"
  },
  "language_info": {
   "codemirror_mode": {
    "name": "ipython",
    "version": 3
   },
   "file_extension": ".py",
   "mimetype": "text/x-python",
   "name": "python",
   "nbconvert_exporter": "python",
   "pygments_lexer": "ipython3",
   "version": "3.8.18"
  }
 },
 "nbformat": 4,
 "nbformat_minor": 2
}
