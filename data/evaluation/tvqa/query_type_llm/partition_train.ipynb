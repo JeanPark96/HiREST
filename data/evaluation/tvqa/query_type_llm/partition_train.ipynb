{
 "cells": [
  {
   "cell_type": "code",
   "execution_count": 1,
   "metadata": {},
   "outputs": [],
   "source": [
    "import os\n",
    "import json\n",
    "import pandas as pd\n",
    "import pysrt\n",
    "import re\n",
    "import shutil\n",
    "from openai import OpenAI, RateLimitError\n",
    "import yaml\n",
    "import math"
   ]
  },
  {
   "cell_type": "code",
   "execution_count": 2,
   "metadata": {},
   "outputs": [],
   "source": [
    "option = \"paragraph_semantic_search\""
   ]
  },
  {
   "cell_type": "code",
   "execution_count": 3,
   "metadata": {},
   "outputs": [],
   "source": [
    "def save_json(content, save_path):\n",
    "    with open(save_path, 'w') as f:\n",
    "        f.write(json.dumps(content))\n",
    "def load_jsonl(filename):\n",
    "    with open(filename, \"r\") as f:\n",
    "        return [json.loads(l.strip(\"\\n\")) for l in f.readlines()]\n",
    "def load_result_json(filename):\n",
    "    with open(filename, \"r\") as f:\n",
    "        data = json.load(f)\n",
    "    print(data)\n",
    "    return data"
   ]
  },
  {
   "cell_type": "code",
   "execution_count": 4,
   "metadata": {},
   "outputs": [],
   "source": [
    "json_folder = \"/home/hlpark/REDUCE/REDUCE_benchmarks/HiREST/data/splits/tvqa\"\n",
    "train_audio_rel = load_jsonl(f'{json_folder}/train_audio_relevance_score_{option}.json')\n",
    "with open(f'{json_folder}/all_data_train.json') as f:\n",
    "    train_json = json.load(f)"
   ]
  },
  {
   "cell_type": "code",
   "execution_count": 5,
   "metadata": {},
   "outputs": [],
   "source": [
    "upper_threshold = 3\n",
    "lower_threshold = 1\n",
    "train_audio_high, train_audio_low = {}, {}\n",
    "for value in train_audio_rel[0]:\n",
    "    if value['video'] in train_json[value['question']]:\n",
    "        if 'score' not in value:\n",
    "            continue\n",
    "        if value['score'] > upper_threshold:\n",
    "            train_audio_high[value['question']] = train_json[value['question']]\n",
    "        elif value['score'] < lower_threshold:\n",
    "            train_audio_low[value['question']] = train_json[value['question']]"
   ]
  },
  {
   "cell_type": "code",
   "execution_count": 6,
   "metadata": {},
   "outputs": [
    {
     "name": "stdout",
     "output_type": "stream",
     "text": [
      "39930\n",
      "22530\n"
     ]
    }
   ],
   "source": [
    "print(len(train_audio_high))\n",
    "print(len(train_audio_low))"
   ]
  },
  {
   "cell_type": "code",
   "execution_count": 7,
   "metadata": {},
   "outputs": [],
   "source": [
    "import random\n",
    "# randomly sample 200 from medical queries and 200 from non-medical queries\n",
    "\n",
    "train_audio_high_len = len(train_audio_high)\n",
    "\n",
    "random.seed(9)\n",
    "train_audio_high_idx = random.sample(list(range(0, train_audio_high_len)), k = len(train_audio_low))\n",
    "train_audio_high_sampled_queries = {}\n",
    "\n",
    "# create json file\n",
    "# if one video have different queries, change video name (append v1, v2, ...)\n",
    "\n",
    "videos = []\n",
    "cnt = 0\n",
    "for idx in train_audio_high_idx:\n",
    "    key  = list(train_audio_high.keys())[idx]\n",
    "    train_audio_high_sampled_queries[key] = train_audio_high[key]"
   ]
  },
  {
   "cell_type": "code",
   "execution_count": 8,
   "metadata": {},
   "outputs": [
    {
     "data": {
      "text/plain": [
       "22530"
      ]
     },
     "execution_count": 8,
     "metadata": {},
     "output_type": "execute_result"
    }
   ],
   "source": [
    "len(train_audio_high_sampled_queries)"
   ]
  },
  {
   "cell_type": "code",
   "execution_count": 9,
   "metadata": {},
   "outputs": [],
   "source": [
    "save_json(train_audio_low, f'{json_folder}/all_train_audio_low_{option}.json')\n",
    "save_json(train_audio_high, f'{json_folder}/all_train_audio_high_{option}.json')\n",
    "save_json(train_audio_high_sampled_queries, f'{json_folder}/sampled_train_audio_high_{option}.json')"
   ]
  },
  {
   "cell_type": "code",
   "execution_count": null,
   "metadata": {},
   "outputs": [],
   "source": []
  },
  {
   "cell_type": "code",
   "execution_count": null,
   "metadata": {},
   "outputs": [],
   "source": []
  }
 ],
 "metadata": {
  "kernelspec": {
   "display_name": "hirest",
   "language": "python",
   "name": "python3"
  },
  "language_info": {
   "codemirror_mode": {
    "name": "ipython",
    "version": 3
   },
   "file_extension": ".py",
   "mimetype": "text/x-python",
   "name": "python",
   "nbconvert_exporter": "python",
   "pygments_lexer": "ipython3",
   "version": "3.8.18"
  }
 },
 "nbformat": 4,
 "nbformat_minor": 2
}
